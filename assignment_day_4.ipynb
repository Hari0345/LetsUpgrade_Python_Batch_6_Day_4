{
 "cells": [
  {
   "cell_type": "markdown",
   "metadata": {},
   "source": [
    "# assignment_day_4\n"
   ]
  },
  {
   "cell_type": "code",
   "execution_count": 2,
   "metadata": {},
   "outputs": [
    {
     "name": "stdout",
     "output_type": "stream",
     "text": [
      "True\n",
      "True\n",
      "False\n",
      "False\n",
      "False\n",
      "False\n",
      "False\n",
      "True\n"
     ]
    }
   ],
   "source": [
    "str1 = \"YERRA_HARI_BABA\"\n",
    "print(str1.isupper())\n",
    "\n",
    "# str2 with uppercase character, DOT, SPACE \n",
    "str2 = \"I AM YERRA_HARI_BABA\"\n",
    "print(str2.isupper())\n",
    "\n",
    "# str3 with uppercase and lowercase characters\n",
    "str3 =\"I am YERRA_HARI_BABA\"\n",
    "print(str3.isupper())\n",
    "\n",
    "# str4 with all lowercase characters\n",
    "str4 = \"i am hari_baba\"\n",
    "print(str4.isupper())\n",
    "\n",
    "# str5 with all lowercase characters\n",
    "str5 = \"helloiamhari_baba\"\n",
    "print(str1.islower())\n",
    "\n",
    "# str6 with lowercase character, DOT, SPACE \n",
    "str6 = \"ish.hari_baba\"\n",
    "print(str2.islower())\n",
    "\n",
    "# str7 with lowercase and uppercase characters\n",
    "str7 =\"I am hari_baba\"\n",
    "print(str3.islower())\n",
    "\n",
    "# str8 with all uppercase characters\n",
    "str8 = \"IAMYERRA_HARI_BABA\"\n",
    "print(str4.islower())"
   ]
  },
  {
   "cell_type": "code",
   "execution_count": null,
   "metadata": {},
   "outputs": [],
   "source": []
  }
 ],
 "metadata": {
  "kernelspec": {
   "display_name": "Python 3",
   "language": "python",
   "name": "python3"
  },
  "language_info": {
   "codemirror_mode": {
    "name": "ipython",
    "version": 3
   },
   "file_extension": ".py",
   "mimetype": "text/x-python",
   "name": "python",
   "nbconvert_exporter": "python",
   "pygments_lexer": "ipython3",
   "version": "3.7.3"
  }
 },
 "nbformat": 4,
 "nbformat_minor": 2
}
